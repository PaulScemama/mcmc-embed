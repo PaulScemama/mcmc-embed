{
 "cells": [
  {
   "cell_type": "code",
   "execution_count": 4,
   "metadata": {},
   "outputs": [],
   "source": [
    "import logging\n",
    "import os\n",
    "\n",
    "import torch\n",
    "import numpy as np\n",
    "import matplotlib.pyplot as plt\n",
    "\n",
    "import pyro\n",
    "import pyro.distributions as dist\n",
    "\n",
    "from pyro.infer import MCMC, NUTS, Predictive\n",
    "from pyro.infer.mcmc.util import initialize_model, summary"
   ]
  },
  {
   "cell_type": "code",
   "execution_count": 2,
   "metadata": {},
   "outputs": [],
   "source": [
    "smoke_test = ('CI' in os.environ)\n",
    "assert pyro.__version__.startswith('1.8.4')\n",
    "\n",
    "pyro.enable_validation(True)\n",
    "pyro.set_rng_seed(1)\n",
    "logging.basicConfig(format='%(message)s', level=logging.INFO)\n",
    "\n",
    "# Set matplotlib settings\n",
    "%matplotlib inline\n",
    "plt.style.use('default')"
   ]
  },
  {
   "attachments": {},
   "cell_type": "markdown",
   "metadata": {},
   "source": [
    "From [here](https://docs.pyro.ai/en/stable/mcmc.html)"
   ]
  },
  {
   "cell_type": "code",
   "execution_count": 21,
   "metadata": {},
   "outputs": [
    {
     "name": "stderr",
     "output_type": "stream",
     "text": [
      "Sample: 100%|██████████| 800/800 [00:01, 402.94it/s, step size=6.58e-01, acc. prob=0.900]\n"
     ]
    },
    {
     "data": {
      "text/plain": [
       "tensor([0.9411, 1.8397, 2.7934])"
      ]
     },
     "execution_count": 21,
     "metadata": {},
     "output_type": "execute_result"
    }
   ],
   "source": [
    "# Literal toy data generation with \"true\" coefficients.\n",
    "true_coefs = torch.tensor([1., 2., 3.])\n",
    "data       = torch.randn(2000, 3)\n",
    "dim        = 3\n",
    "labels     = dist.Bernoulli(logits=(true_coefs * data).sum(-1)).sample()\n",
    "\n",
    "# Model for the data.\n",
    "def model(data, labels):\n",
    "    coefs = pyro.sample(\"beta\", dist.Normal(torch.zeros(dim), torch.ones(dim)))\n",
    "    # when labels are provided, y = labels. If labels is None, then dist.Bernoulli...\n",
    "    # is returned. TODO: understand how the samplers use this design. \n",
    "    y = pyro.sample(\"y\", dist.Bernoulli(logits=(coefs * data).sum(-1)), obs=labels)\n",
    "\n",
    "nuts_kernel = NUTS(model, adapt_step_size=True)\n",
    "mcmc = MCMC(nuts_kernel, num_samples=500, warmup_steps=300)\n",
    "mcmc.run(data, labels)\n",
    "mcmc.get_samples()[\"beta\"].mean(0)\n"
   ]
  },
  {
   "cell_type": "code",
   "execution_count": null,
   "metadata": {},
   "outputs": [],
   "source": []
  }
 ],
 "metadata": {
  "kernelspec": {
   "display_name": "mcmc-embed-eaSAYfSy-py3.10",
   "language": "python",
   "name": "python3"
  },
  "language_info": {
   "codemirror_mode": {
    "name": "ipython",
    "version": 3
   },
   "file_extension": ".py",
   "mimetype": "text/x-python",
   "name": "python",
   "nbconvert_exporter": "python",
   "pygments_lexer": "ipython3",
   "version": "3.10.5"
  },
  "orig_nbformat": 4
 },
 "nbformat": 4,
 "nbformat_minor": 2
}
