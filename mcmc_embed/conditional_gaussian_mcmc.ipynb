{
 "cells": [
  {
   "cell_type": "code",
   "execution_count": 9,
   "metadata": {},
   "outputs": [],
   "source": [
    "import logging\n",
    "import os\n",
    "\n",
    "import torch\n",
    "import numpy as np\n",
    "import matplotlib.pyplot as plt\n",
    "\n",
    "import pyro\n",
    "import pyro.distributions as dist\n",
    "import pyro.poutine as poutine\n",
    "\n",
    "from pyro.infer import MCMC, NUTS, Predictive\n",
    "from pyro.infer.mcmc.util import initialize_model, summary"
   ]
  },
  {
   "cell_type": "code",
   "execution_count": 10,
   "metadata": {},
   "outputs": [],
   "source": [
    "smoke_test = ('CI' in os.environ)\n",
    "assert pyro.__version__.startswith('1.8.4')\n",
    "\n",
    "pyro.enable_validation(True)\n",
    "pyro.set_rng_seed(1)\n",
    "logging.basicConfig(format='%(message)s', level=logging.INFO)\n",
    "\n",
    "# Set matplotlib settings\n",
    "%matplotlib inline\n",
    "plt.style.use('default')"
   ]
  },
  {
   "attachments": {},
   "cell_type": "markdown",
   "metadata": {},
   "source": [
    "## Conditional Gaussian Linear Model"
   ]
  },
  {
   "cell_type": "code",
   "execution_count": 11,
   "metadata": {},
   "outputs": [],
   "source": [
    "# Data\n",
    "x = torch.tensor([1, 2, 3, 4, 5, 6, 7, 8]).type(torch.Tensor)\n",
    "y = torch.tensor([5, 10, 16, 25, 26, 32, 34, 40]).type(torch.Tensor)"
   ]
  },
  {
   "cell_type": "code",
   "execution_count": 25,
   "metadata": {},
   "outputs": [],
   "source": [
    "def model(x, y):\n",
    "    sigma = pyro.sample(\"sigma\", dist.HalfCauchy(scale=25 * torch.ones(1)))\n",
    "    beta = pyro.sample(\"beta\", dist.Normal(torch.zeros(1), 5 * torch.ones(1)))\n",
    "    mu = beta * x\n",
    "    return pyro.sample(\"obs\", dist.Normal(mu, sigma), obs=y)\n"
   ]
  },
  {
   "cell_type": "code",
   "execution_count": 26,
   "metadata": {},
   "outputs": [
    {
     "name": "stderr",
     "output_type": "stream",
     "text": [
      "Sample: 100%|██████████| 800/800 [00:02, 378.58it/s, step size=6.88e-01, acc. prob=0.916]\n"
     ]
    }
   ],
   "source": [
    "nuts_kernel = NUTS(model)\n",
    "mcmc = MCMC(\n",
    "    nuts_kernel,\n",
    "    num_samples=500,\n",
    "    warmup_steps=300,\n",
    ")\n",
    "\n",
    "mcmc.run(x, y) # NOTE: why model and not conditioned model here? \n"
   ]
  },
  {
   "cell_type": "code",
   "execution_count": 27,
   "metadata": {},
   "outputs": [
    {
     "name": "stdout",
     "output_type": "stream",
     "text": [
      "\n",
      "                mean       std    median     25.0%     75.0%     n_eff     r_hat\n",
      "   beta[0]      5.16      0.18      5.16      5.07      5.29    181.35      1.00\n",
      "  sigma[0]      2.40      0.81      2.24      1.66      2.48    179.75      1.00\n",
      "\n",
      "Number of divergences: 0\n"
     ]
    }
   ],
   "source": [
    "mcmc.summary(prob=0.5)"
   ]
  }
 ],
 "metadata": {
  "kernelspec": {
   "display_name": "mcmc-embed-eaSAYfSy-py3.10",
   "language": "python",
   "name": "python3"
  },
  "language_info": {
   "codemirror_mode": {
    "name": "ipython",
    "version": 3
   },
   "file_extension": ".py",
   "mimetype": "text/x-python",
   "name": "python",
   "nbconvert_exporter": "python",
   "pygments_lexer": "ipython3",
   "version": "3.10.5"
  },
  "orig_nbformat": 4
 },
 "nbformat": 4,
 "nbformat_minor": 2
}
